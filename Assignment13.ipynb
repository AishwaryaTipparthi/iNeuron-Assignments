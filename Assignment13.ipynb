{
 "cells": [
  {
   "cell_type": "code",
   "execution_count": null,
   "id": "b65182ba",
   "metadata": {},
   "outputs": [],
   "source": [
    "1. What advantages do Excel spreadsheets have over CSV spreadsheets?\n",
    "\n",
    "Excel is more superior when compared with the CSV file format; thus, CSV consumes less amount of file size when the \n",
    "user is importing data; it is a much faster format compared to excel. CSV does not manipulate data and stores it as-is.\n",
    "Excel also allows the user the add-in feature."
   ]
  },
  {
   "cell_type": "code",
   "execution_count": null,
   "id": "e06ba241",
   "metadata": {},
   "outputs": [],
   "source": [
    "2.What do you pass to csv.reader() and csv.writer() to create reader and writer objects?\n",
    "\n",
    "To read a CSV file with the csv module, first open it using the open() function, just as you would any other text \n",
    "file. But instead of calling the read() or readlines() method on the File object that open() returns, pass it to the \n",
    "csv.reader() function,\n",
    "First, call open() and pass it 'w' to open a file in write mode. This will create the object you can then pass to \n",
    "csv.writer() to create a Writer object."
   ]
  },
  {
   "cell_type": "code",
   "execution_count": null,
   "id": "3e7ce2c1",
   "metadata": {},
   "outputs": [],
   "source": [
    "3. What modes do File objects for reader and writer objects need to be opened in?\n",
    "\n",
    "We can specify the mode while opening a file .i.e. whether we want to read ‘r’, write ‘w’ or append ‘a’ to the file. \n",
    "We can also specify if we want to open the file in text mode or binary mode.\n",
    "The default mode is text mode where we get strings when reading from the file."
   ]
  },
  {
   "cell_type": "code",
   "execution_count": null,
   "id": "f488acc3",
   "metadata": {},
   "outputs": [],
   "source": [
    "4. What method takes a list argument and writes it to a CSV file?\n",
    "\n",
    "We can convert a list to CSV in python easily by importing an in-built CSV module in python. In this method, we use \n",
    "file handling in python to read the data of a list and then write it into a CSV file."
   ]
  },
  {
   "cell_type": "code",
   "execution_count": null,
   "id": "3b581ace",
   "metadata": {},
   "outputs": [],
   "source": [
    "5. What do the keyword arguments delimiter and line terminator do?\n",
    "\n",
    "The delimiter and lineterminator Keyword Arguments changes the delimiter and line terminator characters in your file. \n",
    "The delimiter is the character that appears between cells on a row. By default, the delimiter for a CSV file is a comma.\n",
    "The line terminator is the character that comes at the end of a row."
   ]
  },
  {
   "cell_type": "code",
   "execution_count": null,
   "id": "55cab55d",
   "metadata": {},
   "outputs": [],
   "source": [
    "6. What function takes a string of JSON data and returns a Python data structure?\n",
    "\n",
    "The json. loads() method takes a string of JSON data and returns a Python data structure."
   ]
  },
  {
   "cell_type": "code",
   "execution_count": null,
   "id": "51c84ae9",
   "metadata": {},
   "outputs": [],
   "source": [
    "7. What function takes a Python data structure and returns a string of JSON data?\n",
    "\n",
    "The json.dumps() method takes a Python data structure and returns a string of JSON data."
   ]
  }
 ],
 "metadata": {
  "kernelspec": {
   "display_name": "Python 3",
   "language": "python",
   "name": "python3"
  },
  "language_info": {
   "codemirror_mode": {
    "name": "ipython",
    "version": 3
   },
   "file_extension": ".py",
   "mimetype": "text/x-python",
   "name": "python",
   "nbconvert_exporter": "python",
   "pygments_lexer": "ipython3",
   "version": "3.8.8"
  }
 },
 "nbformat": 4,
 "nbformat_minor": 5
}
