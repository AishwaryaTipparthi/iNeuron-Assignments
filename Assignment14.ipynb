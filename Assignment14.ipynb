{
 "cells": [
  {
   "cell_type": "code",
   "execution_count": null,
   "id": "5aed5a69",
   "metadata": {},
   "outputs": [],
   "source": [
    "1. What does RGBA stand for?\n",
    "\n",
    "RGBA(Red-Green-Blue-Alpha)\n",
    "The RGB color model is extended in this specification to include “alpha” to allow specification of the opacity of a \n",
    "color."
   ]
  },
  {
   "cell_type": "code",
   "execution_count": null,
   "id": "5ce69dd3",
   "metadata": {},
   "outputs": [],
   "source": [
    "2. From the Pillow module, how do you get the RGBA value of any images?\n",
    "\n",
    "Pillow offers the ImageColor. getcolor() function so we don't have to memorize RGBA values for the colors we want \n",
    "to use. This function takes a color name string as its first argument, and the string 'RGBA' as its second argument,\n",
    "and it returns an RGBA tuple."
   ]
  },
  {
   "cell_type": "code",
   "execution_count": null,
   "id": "028756f0",
   "metadata": {},
   "outputs": [],
   "source": [
    "3. What is a box tuple, and how does it work?\n",
    "\n",
    "The box.tuple submodule provides read-only access for the tuple userdata type. It allows, for a single tuple:\n",
    "selective retrieval of the field contents, retrieval of information about size, iteration over all the fields, and \n",
    "conversion to a Lua table."
   ]
  },
  {
   "cell_type": "code",
   "execution_count": null,
   "id": "75717b3b",
   "metadata": {},
   "outputs": [],
   "source": [
    "4. Use your image and load in notebook then, How can you find out the width and height of an\n",
    "Image object?\n",
    "\n",
    "In order to find the height and width of an image, there are two approaches. The first approach is by using the \n",
    "PIL(Pillow) library and the second approach is by using the Open-CV library.\n",
    "PIL is the Python Imaging Library is an important module which is used for image processing.\n",
    "PIL.Image.open() is used to open the image and then .width and .height property of Image are used to get the height \n",
    "and width of the image. The same results can be obtained by using .size property.\n",
    "OpenCV in python is a library which is used for computer vision, image processing and much more.  The imread(filepath)\n",
    "function is used to load an image from the file path specified. The .shape stores a tuple of height, width and no of \n",
    "channels for each pixel. The .shape[:2] will get the height and width of the image."
   ]
  },
  {
   "cell_type": "code",
   "execution_count": null,
   "id": "7fb938d4",
   "metadata": {},
   "outputs": [],
   "source": [
    "5. What method would you call to get Image object for a 100×100 image, excluding the lower-left\n",
    "quarter of it?\n",
    "\n",
    "To get Image object for a 100×100 image, excluding the lower-left quarter of it we use crop() method."
   ]
  },
  {
   "cell_type": "code",
   "execution_count": null,
   "id": "ef6d02b9",
   "metadata": {},
   "outputs": [],
   "source": [
    "6. After making changes to an Image object, how could you save it as an image file?\n",
    "\n",
    "Image.save() Saves this image under the given filename."
   ]
  },
  {
   "cell_type": "code",
   "execution_count": null,
   "id": "2f67fb23",
   "metadata": {},
   "outputs": [],
   "source": [
    "7. What module contains Pillow’s shape-drawing code?\n",
    "\n",
    "The 'ImageDraw' module provides simple 2D graphics support for Image Object. Generally, we use this module to create \n",
    "new images, annotate or retouch existing images and to generate graphics on the fly for web use. The graphics commands \n",
    "support the drawing of shapes and annotation of text."
   ]
  },
  {
   "cell_type": "code",
   "execution_count": null,
   "id": "4a5c27b7",
   "metadata": {},
   "outputs": [],
   "source": [
    "8. Image objects do not have drawing methods. What kind of object does? How do you get this kind\n",
    "of object?\n",
    "\n",
    "Draw() method is used to get an ImageDraw object, and storing the ImageDraw object in draw, we can call drawing \n",
    "methods on draw."
   ]
  }
 ],
 "metadata": {
  "kernelspec": {
   "display_name": "Python 3",
   "language": "python",
   "name": "python3"
  },
  "language_info": {
   "codemirror_mode": {
    "name": "ipython",
    "version": 3
   },
   "file_extension": ".py",
   "mimetype": "text/x-python",
   "name": "python",
   "nbconvert_exporter": "python",
   "pygments_lexer": "ipython3",
   "version": "3.8.8"
  }
 },
 "nbformat": 4,
 "nbformat_minor": 5
}
