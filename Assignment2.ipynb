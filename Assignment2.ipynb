{
 "cells": [
  {
   "cell_type": "code",
   "execution_count": null,
   "id": "53c978a1",
   "metadata": {},
   "outputs": [],
   "source": [
    "1.What are the two values of the Boolean data type? How do you write them?\n",
    "\n",
    "The two values of the boolean data type are true and false. Boolean expression use relational and logical operators. The result \n",
    "of a boolean expression is either True or False. We write them as capital T and F and the rest of the letters are small.\n"
   ]
  },
  {
   "cell_type": "code",
   "execution_count": null,
   "id": "68ec33b4",
   "metadata": {},
   "outputs": [],
   "source": [
    "2. What are the three different types of Boolean operators?\n",
    "\n",
    "The three different types of boolean operators are and, or, not"
   ]
  },
  {
   "cell_type": "code",
   "execution_count": null,
   "id": "7b1fd43a",
   "metadata": {},
   "outputs": [],
   "source": [
    "3. Make a list of each Boolean operators truth tables (i.e. every possible combination of Boolean\n",
    "values for the operator and what it evaluate ).\n",
    "\n",
    "X         y       x and y   x or y\n",
    "True    True       True      True\n",
    "True    False      False     True\n",
    "False   True       False     True\n",
    "False   False      False     False"
   ]
  },
  {
   "cell_type": "code",
   "execution_count": null,
   "id": "1fe28ef1",
   "metadata": {},
   "outputs": [],
   "source": [
    "4. What are the values of the following expressions?\n",
    "(5 > 4) and (3 == 5)\n",
    "not (5 > 4)\n",
    "(5 > 4) or (3 == 5)\n",
    "not ((5 > 4) or (3 == 5))\n",
    "(True and True) and (True == False)\n",
    "(not False) or (not True)"
   ]
  },
  {
   "cell_type": "code",
   "execution_count": 1,
   "id": "4923a067",
   "metadata": {},
   "outputs": [
    {
     "data": {
      "text/plain": [
       "False"
      ]
     },
     "execution_count": 1,
     "metadata": {},
     "output_type": "execute_result"
    }
   ],
   "source": [
    "(5 > 4) and (3 == 5)"
   ]
  },
  {
   "cell_type": "code",
   "execution_count": 2,
   "id": "47012c42",
   "metadata": {},
   "outputs": [
    {
     "data": {
      "text/plain": [
       "False"
      ]
     },
     "execution_count": 2,
     "metadata": {},
     "output_type": "execute_result"
    }
   ],
   "source": [
    "not (5 > 4)"
   ]
  },
  {
   "cell_type": "code",
   "execution_count": 3,
   "id": "8b6eb869",
   "metadata": {},
   "outputs": [
    {
     "data": {
      "text/plain": [
       "True"
      ]
     },
     "execution_count": 3,
     "metadata": {},
     "output_type": "execute_result"
    }
   ],
   "source": [
    "(5 > 4) or (3 == 5)"
   ]
  },
  {
   "cell_type": "code",
   "execution_count": 4,
   "id": "ed33c9fc",
   "metadata": {},
   "outputs": [
    {
     "data": {
      "text/plain": [
       "False"
      ]
     },
     "execution_count": 4,
     "metadata": {},
     "output_type": "execute_result"
    }
   ],
   "source": [
    "not ((5 > 4) or (3 == 5))"
   ]
  },
  {
   "cell_type": "code",
   "execution_count": 5,
   "id": "d288323b",
   "metadata": {},
   "outputs": [
    {
     "data": {
      "text/plain": [
       "False"
      ]
     },
     "execution_count": 5,
     "metadata": {},
     "output_type": "execute_result"
    }
   ],
   "source": [
    "(True and True) and (True == False)"
   ]
  },
  {
   "cell_type": "code",
   "execution_count": 6,
   "id": "d75cafe2",
   "metadata": {},
   "outputs": [
    {
     "data": {
      "text/plain": [
       "True"
      ]
     },
     "execution_count": 6,
     "metadata": {},
     "output_type": "execute_result"
    }
   ],
   "source": [
    "(not False) or (not True)"
   ]
  },
  {
   "cell_type": "code",
   "execution_count": null,
   "id": "06a1cd17",
   "metadata": {},
   "outputs": [],
   "source": [
    "5. What are the six comparison operators?\n",
    "\n",
    "The six comparison operators are \n",
    "== (equal to)\n",
    "!= (not equal to)\n",
    "> (greater than)\n",
    "< (less than)\n",
    ">= (greater than or equal to)\n",
    "<= (less than or equal to)"
   ]
  },
  {
   "cell_type": "code",
   "execution_count": null,
   "id": "2fb6833c",
   "metadata": {},
   "outputs": [],
   "source": [
    "6. How do you tell the difference between the equal to and assignment operators?Describe a\n",
    "condition and when you would use one.\n",
    "\n",
    "The \"=\" is an assignment operator used to assign the value on the right to the variable on the left.\n",
    "= is an assignment operator, if we wanna assign x as 5, then we give int x = 5\n",
    "The \"==\" operator checks whether the value on both the sides are equal or not. If it is equal, it returns True. Otherwise it \n",
    "returns False.\n",
    "== is comparision, if we wanna compare 5 == 5, if condition is True it returns True. Otherwise it returns False."
   ]
  },
  {
   "cell_type": "code",
   "execution_count": null,
   "id": "86b700a6",
   "metadata": {},
   "outputs": [],
   "source": [
    "7. Identify the three blocks in this code:\n",
    "spam = 0\n",
    "if spam == 10:\n",
    "  print('eggs') #block1\n",
    "if spam > 5:\n",
    "  print('bacon')  #block2\n",
    "else:\n",
    "  print('ham')  #block3\n",
    "  print('spam')\n",
    "  print('spam')\n",
    "\n",
    " "
   ]
  },
  {
   "cell_type": "code",
   "execution_count": null,
   "id": "4fe2fa53",
   "metadata": {},
   "outputs": [],
   "source": [
    "8. Write code that prints Hello if 1 is stored in spam, prints Howdy if 2 is stored in spam, and prints\n",
    "Greetings! if anything else is stored in spam."
   ]
  },
  {
   "cell_type": "code",
   "execution_count": 1,
   "id": "72b82361",
   "metadata": {},
   "outputs": [
    {
     "name": "stdout",
     "output_type": "stream",
     "text": [
      "1\n",
      "Hello\n"
     ]
    }
   ],
   "source": [
    "spam = int(input())\n",
    "if spam == 1:\n",
    "    print(\"Hello\")\n",
    "elif spam == 2:\n",
    "    print(\"Howdy\")\n",
    "else:\n",
    "    print(\"Greetings!\")"
   ]
  },
  {
   "cell_type": "code",
   "execution_count": null,
   "id": "8743f8c6",
   "metadata": {},
   "outputs": [],
   "source": [
    "9.If your programme is stuck in an endless loop, what keys you’ll press?\n",
    "\n",
    "Ctrl+C"
   ]
  },
  {
   "cell_type": "code",
   "execution_count": null,
   "id": "e6b4ea11",
   "metadata": {},
   "outputs": [],
   "source": [
    "10. How can you tell the difference between break and continue?\n",
    "\n",
    "A break statement is used to break the loop whenever a particular condition is satisfied.\n",
    "The continue statement skips the remaining lines of code for the current iteration of the loop. In this case, the loop doesnot \n",
    "end, it continues with the next iteration."
   ]
  },
  {
   "cell_type": "code",
   "execution_count": null,
   "id": "64e0d3a2",
   "metadata": {},
   "outputs": [],
   "source": [
    "11. In a for loop, what is the difference between range(10), range(0, 10), and range(0, 10, 1)?\n",
    "\n",
    "The range is an argument where the user will get the series of numbers that starts at 0 and includes every whole number and not \n",
    "including the user given number, the number the user given is used as stop.\n",
    "range(10) returns all the whole numbers starting from 0 to 9, and it doesnot include 10 as 10 is used as stop.\n",
    "range(0,10) returns all thw whole numbers starting from 0 to 9, i.e., range(start,stop) as 0 is the starting number it is \n",
    "included and 10 is the stop number it is not included in the numbers.\n",
    "range(0,10,1) returns all the whole numbers starting from 0 to 9, since the difference is given as 1, so it returns all the \n",
    "numbers till the stop number. If the differnce number is not provided it will automatically take the differce as 1."
   ]
  },
  {
   "cell_type": "code",
   "execution_count": 4,
   "id": "d4ead25c",
   "metadata": {},
   "outputs": [
    {
     "name": "stdout",
     "output_type": "stream",
     "text": [
      "0\n",
      "1\n",
      "2\n",
      "3\n",
      "4\n",
      "5\n",
      "6\n",
      "7\n",
      "8\n",
      "9\n"
     ]
    }
   ],
   "source": [
    "for x in range(0,10,1):\n",
    "    print(x)"
   ]
  },
  {
   "cell_type": "code",
   "execution_count": null,
   "id": "f431f718",
   "metadata": {},
   "outputs": [],
   "source": [
    "12. Write a short program that prints the numbers 1 to 10 using a for loop. Then write an equivalent\n",
    "program that prints the numbers 1 to 10 using a while loop."
   ]
  },
  {
   "cell_type": "code",
   "execution_count": 5,
   "id": "3b94c7b8",
   "metadata": {},
   "outputs": [
    {
     "name": "stdout",
     "output_type": "stream",
     "text": [
      "1\n",
      "2\n",
      "3\n",
      "4\n",
      "5\n",
      "6\n",
      "7\n",
      "8\n",
      "9\n",
      "10\n"
     ]
    }
   ],
   "source": [
    "for x in range(1,11):\n",
    "    print(x)"
   ]
  },
  {
   "cell_type": "code",
   "execution_count": 6,
   "id": "44f4fd68",
   "metadata": {},
   "outputs": [
    {
     "name": "stdout",
     "output_type": "stream",
     "text": [
      "1\n",
      "2\n",
      "3\n",
      "4\n",
      "5\n",
      "6\n",
      "7\n",
      "8\n",
      "9\n",
      "10\n"
     ]
    }
   ],
   "source": [
    "n = 1\n",
    "while n <= 10:\n",
    "    print(n)\n",
    "    n = n + 1"
   ]
  },
  {
   "cell_type": "code",
   "execution_count": null,
   "id": "6924f9c9",
   "metadata": {},
   "outputs": [],
   "source": [
    "13. If you had a function named bacon() inside a module named spam, how would you call it after\n",
    "importing spam?\n",
    "\n",
    "The function can be called with spam.bacon()"
   ]
  }
 ],
 "metadata": {
  "kernelspec": {
   "display_name": "Python 3 (ipykernel)",
   "language": "python",
   "name": "python3"
  },
  "language_info": {
   "codemirror_mode": {
    "name": "ipython",
    "version": 3
   },
   "file_extension": ".py",
   "mimetype": "text/x-python",
   "name": "python",
   "nbconvert_exporter": "python",
   "pygments_lexer": "ipython3",
   "version": "3.9.13"
  }
 },
 "nbformat": 4,
 "nbformat_minor": 5
}
