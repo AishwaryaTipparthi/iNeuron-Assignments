{
 "cells": [
  {
   "cell_type": "code",
   "execution_count": null,
   "id": "38134913",
   "metadata": {},
   "outputs": [],
   "source": [
    "1. Why are functions advantageous to have in your programs?\n",
    "\n",
    "With the help of functions, we can avoid rewriting the same logic or code again and again in a program. \n",
    "In a single Program, we can call Python functions anywhere and we can also call the python functions multiple times.\n",
    "We can also track a large Python program easily when it is divided into multiple functions."
   ]
  },
  {
   "cell_type": "code",
   "execution_count": null,
   "id": "4c118bff",
   "metadata": {},
   "outputs": [],
   "source": [
    "2. When does the code in a function run: when its specified or when its called?\n",
    "    \n",
    "The code in a function runs only when it is called."
   ]
  },
  {
   "cell_type": "code",
   "execution_count": null,
   "id": "ee8a652a",
   "metadata": {},
   "outputs": [],
   "source": [
    "3. What statement creates a function?\n",
    "\n",
    "The \"def\" keyword is a statement for defining a function in python. We start a function with the def keyword, specify a name \n",
    "followed by a ':' sign. "
   ]
  },
  {
   "cell_type": "code",
   "execution_count": null,
   "id": "7476ca0c",
   "metadata": {},
   "outputs": [],
   "source": [
    "4. What is the difference between a function and a function call?\n",
    "\n",
    "A function is a block of code which only runs when it is called. We can pass data, known as parameters,into a function. A \n",
    "function can return data as a result.\n",
    "A function call is the code which is used to call a function. To call a function, we use the function name followed by \n",
    "paranthesis."
   ]
  },
  {
   "cell_type": "code",
   "execution_count": 5,
   "id": "19ae4844",
   "metadata": {},
   "outputs": [],
   "source": [
    "5. How many global scopes are there in a Python program? How many local scopes?\n",
    "\n",
    "There is only one gloal scope, and a local scope is created whenever a function is called."
   ]
  },
  {
   "cell_type": "code",
   "execution_count": null,
   "id": "dbc9a05b",
   "metadata": {},
   "outputs": [],
   "source": [
    "6. What happens to variables in a local scope when the function call returns?\n",
    "\n",
    "When a function returns, the local scope is destroyed and all variables in it are forgotten."
   ]
  },
  {
   "cell_type": "code",
   "execution_count": null,
   "id": "24765c51",
   "metadata": {},
   "outputs": [],
   "source": [
    "7. What is the concept of a return value? Is it possible to have a return value in an expression?\n",
    "\n",
    "To let a function return a value, we use the return statement. The python return statement is used to return a value from a \n",
    "function. We can only use the return statement in a function. It cannont be used outside of the python function. A return \n",
    "statement includes the return keyword and the value that will be returned after that. A python function will always have a \n",
    "return value. If we dont explicitly use a return value in a return statement, then python will implicitly return a default value\n",
    "for us."
   ]
  },
  {
   "cell_type": "code",
   "execution_count": null,
   "id": "6855cefa",
   "metadata": {},
   "outputs": [],
   "source": [
    "8. If a function does not have a return statement, what is the return value of a call to that function?\n",
    "\n",
    "If a function does not have a return statement, then when the function is called it return a default value. That default return \n",
    "value will always be None."
   ]
  },
  {
   "cell_type": "code",
   "execution_count": null,
   "id": "76f460d7",
   "metadata": {},
   "outputs": [],
   "source": [
    "9. How do you make a function variable refer to the global variable?\n",
    "\n",
    "When we create a variable inside a function, that variable is called local variable and can only used inside that function.\n",
    "To create a global variable inside a function, we use the global keyword to refer the function variable to the global variable."
   ]
  },
  {
   "cell_type": "code",
   "execution_count": null,
   "id": "82b5caa0",
   "metadata": {},
   "outputs": [],
   "source": [
    "10. What is the data type of None?\n",
    "\n",
    "The None keyword is used to define a null value or no value at all. None is not the same as 0,False or any empty string. \n",
    "None is a data type of its own (NoneType) and only None can be None."
   ]
  },
  {
   "cell_type": "code",
   "execution_count": null,
   "id": "fdfa6313",
   "metadata": {},
   "outputs": [],
   "source": [
    "11. What does the sentence import areallyourpetsnamederic do?\n",
    "\n",
    "That import statement imports a module named areallyourpetsnamedaric"
   ]
  },
  {
   "cell_type": "code",
   "execution_count": 7,
   "id": "cfe7e832",
   "metadata": {},
   "outputs": [],
   "source": [
    "12. If you had a bacon() feature in a spam module, what would you call it after importing spam?\n",
    "\n",
    "If we had a bacon() feature in a spam module, then after importing spam that function can be called as spam.bacon()."
   ]
  },
  {
   "cell_type": "code",
   "execution_count": null,
   "id": "3400764e",
   "metadata": {},
   "outputs": [],
   "source": [
    "13. What can you do to save a programme from crashing if it encounters an error?\n",
    "\n",
    "Place the line of code that might cause an error in a try clause."
   ]
  },
  {
   "cell_type": "code",
   "execution_count": null,
   "id": "02263e76",
   "metadata": {},
   "outputs": [],
   "source": [
    "14. What is the purpose of the try clause? What is the purpose of the except clause?\n",
    "\n",
    "The code that could potentially cause an error goes in the try clause.\n",
    "The code that executes if an error happens goes in the except clause."
   ]
  }
 ],
 "metadata": {
  "kernelspec": {
   "display_name": "Python 3 (ipykernel)",
   "language": "python",
   "name": "python3"
  },
  "language_info": {
   "codemirror_mode": {
    "name": "ipython",
    "version": 3
   },
   "file_extension": ".py",
   "mimetype": "text/x-python",
   "name": "python",
   "nbconvert_exporter": "python",
   "pygments_lexer": "ipython3",
   "version": "3.9.13"
  }
 },
 "nbformat": 4,
 "nbformat_minor": 5
}
