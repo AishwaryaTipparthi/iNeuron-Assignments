{
 "cells": [
  {
   "cell_type": "code",
   "execution_count": null,
   "id": "90aa1374",
   "metadata": {},
   "outputs": [],
   "source": [
    "1. What does an empty dictionarys code look like?\n",
    "\n",
    "An empty dictionarys code look like {}"
   ]
  },
  {
   "cell_type": "code",
   "execution_count": null,
   "id": "586d4d5e",
   "metadata": {},
   "outputs": [],
   "source": [
    "2. What is the value of a dictionary value with the key 'foo' and the value 42?"
   ]
  },
  {
   "cell_type": "code",
   "execution_count": 1,
   "id": "cf069512",
   "metadata": {},
   "outputs": [
    {
     "data": {
      "text/plain": [
       "{'foo': 42}"
      ]
     },
     "execution_count": 1,
     "metadata": {},
     "output_type": "execute_result"
    }
   ],
   "source": [
    "{'foo' : 42}"
   ]
  },
  {
   "cell_type": "code",
   "execution_count": null,
   "id": "a0709311",
   "metadata": {},
   "outputs": [],
   "source": [
    "3. What is the most significant distinction between a dictionary and a list?\n",
    "\n",
    "The elements in the list are ordered whereas, the elements in the dictionary are not ordered. The elemnts in a list must be \n",
    "accessed using numerical indices whereas, the elements in a dictionary are indexed using keys, which can have different data \n",
    "types."
   ]
  },
  {
   "cell_type": "code",
   "execution_count": null,
   "id": "803c2fc3",
   "metadata": {},
   "outputs": [],
   "source": [
    "4. What happens if you try to access spam 'foo' if spam is {'bar': 100}?\n",
    "\n",
    "We get a KeyError error."
   ]
  },
  {
   "cell_type": "code",
   "execution_count": null,
   "id": "8912182f",
   "metadata": {},
   "outputs": [],
   "source": [
    "5. If a dictionary is stored in spam, what is the difference between the expressions \"'cat' in spam\" and\n",
    "\"'cat' in spam.keys()\"?\n",
    "\n",
    "There is no difference. 'cat' in spam checks whether there is a 'cat' key in the dictionary, while 'cat' in spam.values() checks\n",
    "whether there is a value 'cat' for one of the keys in spam."
   ]
  },
  {
   "cell_type": "code",
   "execution_count": null,
   "id": "3fc85914",
   "metadata": {},
   "outputs": [],
   "source": [
    "6. If a dictionary is stored in spam, what is the difference between the expressions \"'cat' in spam\" and\n",
    "\"'cat' in spam.values()\"?\n",
    "\n",
    "\"'cat' in spam\" checks whether 'cat' exists as a key in spam. \"'cat' in spam.values()\" checks whether 'cat' is a value in spam."
   ]
  },
  {
   "cell_type": "code",
   "execution_count": null,
   "id": "819c1680",
   "metadata": {},
   "outputs": [],
   "source": [
    "7. What is a shortcut for the following code?\n",
    "if 'color' not in spam:\n",
    "spam['color'] = 'black'\n",
    "\n",
    "spam.setdefault('color', 'black')"
   ]
  },
  {
   "cell_type": "code",
   "execution_count": null,
   "id": "a6a0f5e2",
   "metadata": {},
   "outputs": [],
   "source": [
    "8. How do you \"pretty print\" dictionary values using which module and function?\n",
    "\n",
    "The module used is the pprint module within which we have the pprint function of the same name. The functions are pprint.pprint()\n",
    "and pprint.pformat()."
   ]
  }
 ],
 "metadata": {
  "kernelspec": {
   "display_name": "Python 3",
   "language": "python",
   "name": "python3"
  },
  "language_info": {
   "codemirror_mode": {
    "name": "ipython",
    "version": 3
   },
   "file_extension": ".py",
   "mimetype": "text/x-python",
   "name": "python",
   "nbconvert_exporter": "python",
   "pygments_lexer": "ipython3",
   "version": "3.8.8"
  }
 },
 "nbformat": 4,
 "nbformat_minor": 5
}
