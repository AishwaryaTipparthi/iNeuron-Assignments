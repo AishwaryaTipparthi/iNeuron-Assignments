{
 "cells": [
  {
   "cell_type": "code",
   "execution_count": null,
   "id": "86e08fb9",
   "metadata": {},
   "outputs": [],
   "source": [
    "1. What are escape characters, and how do you use them?\n",
    "\n",
    "An escape character is a backslash \\ followed by the character we want to insert. To insert characters that are illegal \n",
    "in a string, we use an escape character."
   ]
  },
  {
   "cell_type": "code",
   "execution_count": null,
   "id": "6e61dbe5",
   "metadata": {},
   "outputs": [],
   "source": [
    "2. What do the escape characters n and t stand for?\n",
    "\n",
    "Escape character n (\\n) stands for New Line.\n",
    "Escape character t (\\t) stands for Tab."
   ]
  },
  {
   "cell_type": "code",
   "execution_count": null,
   "id": "0ce10ba7",
   "metadata": {},
   "outputs": [],
   "source": [
    "3. What is the way to include backslash characters in a string?\n",
    "\n",
    "An escape character is the way to include backslash characters in a string."
   ]
  },
  {
   "cell_type": "code",
   "execution_count": null,
   "id": "aaf06717",
   "metadata": {},
   "outputs": [],
   "source": [
    "4. The string \"Howl's Moving Castle\"; is a correct value. Why isnt the single quote character in the\n",
    "word Howls not escaped a problem?\n",
    "\n",
    "The single quote in Howls is fine because we have used double quotes to mark the beginning and end of the string."
   ]
  },
  {
   "cell_type": "code",
   "execution_count": null,
   "id": "f7ff1c85",
   "metadata": {},
   "outputs": [],
   "source": [
    "5. How do you write a string of newlines if you dont want to use the n character?\n",
    "\n",
    "The new line character in python is \\n. It is used to indicate the end of a line of text. We can print strings wothout \n",
    "adding a new line ith end= <character>, which <character> is the character that will be used to seperate the lines."
   ]
  },
  {
   "cell_type": "code",
   "execution_count": null,
   "id": "311a25e9",
   "metadata": {},
   "outputs": [],
   "source": [
    "6. What are the values of the given expressions?"
   ]
  },
  {
   "cell_type": "code",
   "execution_count": 1,
   "id": "ea05837f",
   "metadata": {},
   "outputs": [
    {
     "data": {
      "text/plain": [
       "'e'"
      ]
     },
     "execution_count": 1,
     "metadata": {},
     "output_type": "execute_result"
    }
   ],
   "source": [
    "'Hello World!'[1]"
   ]
  },
  {
   "cell_type": "code",
   "execution_count": 2,
   "id": "74bfad1e",
   "metadata": {},
   "outputs": [
    {
     "data": {
      "text/plain": [
       "'Hello'"
      ]
     },
     "execution_count": 2,
     "metadata": {},
     "output_type": "execute_result"
    }
   ],
   "source": [
    "'Hello World!'[0:5]"
   ]
  },
  {
   "cell_type": "code",
   "execution_count": 3,
   "id": "5364bbde",
   "metadata": {},
   "outputs": [
    {
     "data": {
      "text/plain": [
       "'Hello'"
      ]
     },
     "execution_count": 3,
     "metadata": {},
     "output_type": "execute_result"
    }
   ],
   "source": [
    "'Hello World!'[:5]"
   ]
  },
  {
   "cell_type": "code",
   "execution_count": 4,
   "id": "e4ce4b74",
   "metadata": {},
   "outputs": [
    {
     "data": {
      "text/plain": [
       "'lo World!'"
      ]
     },
     "execution_count": 4,
     "metadata": {},
     "output_type": "execute_result"
    }
   ],
   "source": [
    "'Hello World!'[3:]"
   ]
  },
  {
   "cell_type": "code",
   "execution_count": null,
   "id": "236fc70a",
   "metadata": {},
   "outputs": [],
   "source": [
    "7. What are the values of the following expressions?"
   ]
  },
  {
   "cell_type": "code",
   "execution_count": 5,
   "id": "706d1675",
   "metadata": {},
   "outputs": [
    {
     "data": {
      "text/plain": [
       "'HELLO'"
      ]
     },
     "execution_count": 5,
     "metadata": {},
     "output_type": "execute_result"
    }
   ],
   "source": [
    "'Hello'.upper()"
   ]
  },
  {
   "cell_type": "code",
   "execution_count": 6,
   "id": "3d1c87ec",
   "metadata": {},
   "outputs": [
    {
     "data": {
      "text/plain": [
       "True"
      ]
     },
     "execution_count": 6,
     "metadata": {},
     "output_type": "execute_result"
    }
   ],
   "source": [
    "'Hello'.upper().isupper()"
   ]
  },
  {
   "cell_type": "code",
   "execution_count": 7,
   "id": "df8bb8bf",
   "metadata": {},
   "outputs": [
    {
     "data": {
      "text/plain": [
       "'hello'"
      ]
     },
     "execution_count": 7,
     "metadata": {},
     "output_type": "execute_result"
    }
   ],
   "source": [
    "'Hello'.upper().lower()"
   ]
  },
  {
   "cell_type": "code",
   "execution_count": null,
   "id": "0a7b6a2b",
   "metadata": {},
   "outputs": [],
   "source": [
    "8. What are the values of the following expressions?"
   ]
  },
  {
   "cell_type": "code",
   "execution_count": 8,
   "id": "c7ef0d07",
   "metadata": {},
   "outputs": [
    {
     "data": {
      "text/plain": [
       "['Remember,', 'remember,', 'the', 'fifth', 'of', 'July.']"
      ]
     },
     "execution_count": 8,
     "metadata": {},
     "output_type": "execute_result"
    }
   ],
   "source": [
    "'Remember, remember, the fifth of July.'.split()"
   ]
  },
  {
   "cell_type": "code",
   "execution_count": 9,
   "id": "d50eb5b9",
   "metadata": {},
   "outputs": [
    {
     "data": {
      "text/plain": [
       "'There-can-only-one.'"
      ]
     },
     "execution_count": 9,
     "metadata": {},
     "output_type": "execute_result"
    }
   ],
   "source": [
    "'-'.join('There can only one.'.split())"
   ]
  },
  {
   "cell_type": "code",
   "execution_count": null,
   "id": "e3bcf304",
   "metadata": {},
   "outputs": [],
   "source": [
    "9. What are the methods for right-justifying, left-justifying, and centering a string?\n",
    "\n",
    "right-justifying method: The rjust() method will right align the string, using a specified character(space is default) as \n",
    "the fill character.\n",
    "syntax: string.rjust(length, character)\n",
    "left-justifying method: The ljyst() method will left align the string, using a specified character(space is default) as\n",
    "the fill character.\n",
    "syntax: string.ljust(length, character)\n",
    "centering a string: The center() method will center align the string, using a specified character(space is default) as the \n",
    "fill character.\n",
    "syntax: string.center(length, character)"
   ]
  },
  {
   "cell_type": "code",
   "execution_count": null,
   "id": "cafea2c2",
   "metadata": {},
   "outputs": [],
   "source": [
    "10. What is the best way to remove whitespace characters from the start or end?\n",
    "\n",
    "We use .strip() method to remove whitespace and characters from the beginning and end of a string. We use .lstring() method\n",
    "to remove whitespace and charcaters only from the beginning of a string. We use the .rstrip() method to remove whitespace\n",
    "and characters only from the end of a string."
   ]
  }
 ],
 "metadata": {
  "kernelspec": {
   "display_name": "Python 3 (ipykernel)",
   "language": "python",
   "name": "python3"
  },
  "language_info": {
   "codemirror_mode": {
    "name": "ipython",
    "version": 3
   },
   "file_extension": ".py",
   "mimetype": "text/x-python",
   "name": "python",
   "nbconvert_exporter": "python",
   "pygments_lexer": "ipython3",
   "version": "3.9.13"
  }
 },
 "nbformat": 4,
 "nbformat_minor": 5
}
